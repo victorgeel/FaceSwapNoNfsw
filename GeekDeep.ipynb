{
  "cells": [
    {
      "cell_type": "markdown",
      "metadata": {
        "id": "view-in-github",
        "colab_type": "text"
      },
      "source": [
        "<a href=\"https://colab.research.google.com/github/victorgeel/FaceSwapNoNfsw/blob/main/GeekDeep.ipynb\" target=\"_parent\"><img src=\"https://colab.research.google.com/assets/colab-badge.svg\" alt=\"Open In Colab\"/></a>"
      ]
    },
    {
      "cell_type": "markdown",
      "metadata": {
        "id": "hgVreYca3LcQ"
      },
      "source": [
        "##GeekDeep V .1\n",
        "▫️▫️▫️▫️▫️▫️▫️▫️▫️▫️▫️▫️\n",
        "\n",
        "🇲🇲 မြန်မာစာအသုံးပြုပါသည် 🇲🇲\n",
        "▫️▫️▫️▫️▫️▫️▫️▫️▫️▫️▫️▫️"
      ]
    },
    {
      "cell_type": "markdown",
      "metadata": {
        "id": "28qKtK7F3bzl"
      },
      "source": [
        "📥 ပြင်ဆင်မည်"
      ]
    },
    {
      "cell_type": "code",
      "execution_count": null,
      "metadata": {
        "id": "ZlrnUA3i3gMB"
      },
      "outputs": [],
      "source": [
        "!apt-get install git-lfs\n",
        "!git lfs install"
      ]
    },
    {
      "cell_type": "markdown",
      "source": [
        "⚙️ စတင်သည်"
      ],
      "metadata": {
        "id": "AfwmOyx0AfUG"
      }
    },
    {
      "cell_type": "code",
      "source": [
        "!git clone https://huggingface.co/spaces/victorisgeek/GeekDeep"
      ],
      "metadata": {
        "id": "B-cc-T4yVAcL"
      },
      "execution_count": null,
      "outputs": []
    },
    {
      "cell_type": "markdown",
      "source": [
        "🗨️ တည်ဆောက်မည်"
      ],
      "metadata": {
        "id": "r6FrrCyz__8y"
      }
    },
    {
      "cell_type": "code",
      "source": [
        "%cd /content/GeekDeep\n",
        "\n",
        "!pip install -r requirements.txt -q"
      ],
      "metadata": {
        "id": "71Z-uoHLVEH1"
      },
      "execution_count": null,
      "outputs": []
    },
    {
      "cell_type": "markdown",
      "metadata": {
        "id": "vsfWtUCSGrrl"
      },
      "source": [
        "\n",
        "🔆 google drive နှင့်ချိတ်ဆက်ပါ"
      ]
    },
    {
      "cell_type": "code",
      "execution_count": null,
      "metadata": {
        "id": "YVHiNI-bb6IA"
      },
      "outputs": [],
      "source": [
        "from google.colab import auth, drive\n",
        "auth.authenticate_user()\n",
        "drive.mount('/content/drive')"
      ]
    },
    {
      "cell_type": "markdown",
      "source": [
        "♾️ နောက်ဆုံးအဆင့်အတွက် ♾️                    \n",
        "📤 path ‌‌‌📤  \n",
        "  🔑ရွေးရန်🔑"
      ],
      "metadata": {
        "id": "lA_rI52hCRNE"
      }
    },
    {
      "cell_type": "code",
      "source": [
        "#@title\n",
        "default_output_path = \"/content/GeekDeep\" #@param {type:\"string\"}\n",
        "\n",
        "command = f\"python app.py --cuda --colab --out_dir {default_output_path}\"\n",
        "!{command}"
      ],
      "metadata": {
        "id": "44Nhx5LtcvCu",
        "outputId": "d5a0801c-2b3d-4bb9-8f5c-396c8432f29e",
        "colab": {
          "base_uri": "https://localhost:8080/"
        }
      },
      "execution_count": null,
      "outputs": [
        {
          "output_type": "stream",
          "name": "stdout",
          "text": [
            "Analysing face data:  70% 628/900 [09:38<03:46,  1.20it/s]"
          ]
        }
      ]
    }
  ],
  "metadata": {
    "accelerator": "GPU",
    "colab": {
      "provenance": [],
      "include_colab_link": true
    },
    "kernelspec": {
      "display_name": "Python",
      "name": "python3"
    },
    "language_info": {
      "name": "python"
    }
  },
  "nbformat": 4,
  "nbformat_minor": 0
}